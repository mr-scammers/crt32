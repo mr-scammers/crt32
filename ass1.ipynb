{
 "cells": [
  {
   "cell_type": "code",
   "execution_count": 1,
   "metadata": {},
   "outputs": [
    {
     "name": "stdout",
     "output_type": "stream",
     "text": [
      "team-B needs 50 runs to win\n"
     ]
    }
   ],
   "source": [
    "Ascores =int(input(\"enter the scores of team-A = \"))\n",
    "Bscores=int(input(\"enter many runs team-B was scored = \"))\n",
    "print(f\"team-B needs {Ascores-Bscores} runs to win\")"
   ]
  },
  {
   "cell_type": "code",
   "execution_count": 2,
   "metadata": {},
   "outputs": [
    {
     "name": "stdout",
     "output_type": "stream",
     "text": [
      "eligible\n"
     ]
    }
   ],
   "source": [
    "n= int(input(\"enter how many participants are there in your team = \"))\n",
    "if n>8 or n<6:\n",
    "    print(\"the participants must be between 6 and 8 to eligible\")\n",
    "else:\n",
    "    print(\"eligible\")"
   ]
  },
  {
   "cell_type": "code",
   "execution_count": 3,
   "metadata": {},
   "outputs": [
    {
     "name": "stdout",
     "output_type": "stream",
     "text": [
      "100 students won't be able to book tickets.\n"
     ]
    }
   ],
   "source": [
    "X = int(input(\"Enter the number of tickets are available:\"))\n",
    "Y = int(input(\" Enter the total number of students: \"))\n",
    "if (X - Y) > 0:\n",
    "    print(X - Y,\"students won't be able to book tickets.\")\n",
    "else:\n",
    "    print(\"All students can book tickets\")"
   ]
  },
  {
   "cell_type": "code",
   "execution_count": 2,
   "metadata": {},
   "outputs": [
    {
     "name": "stdout",
     "output_type": "stream",
     "text": [
      "you needs 24 Rs.500 notes to pay the fees\n"
     ]
    }
   ],
   "source": [
    "x = int(input(\"Enter the number of Rs.2000 notes you has:\"))\n",
    "print(f\"you needs {x*4} Rs.500 notes to pay the fees\")"
   ]
  },
  {
   "cell_type": "code",
   "execution_count": null,
   "metadata": {},
   "outputs": [],
   "source": [
    "candies = int(input(\"Enter the number of candies: \"))\n",
    "friends = int(input(\"Enter the number of friends: \"))\n",
    "if candies % friends == 0:\n",
    "    print(\"Yes, the candies can be disturbed equally.\")\n",
    "else:\n",
    "    print(\"No, the candies cannot be disturbed equally.\")"
   ]
  }
 ],
 "metadata": {
  "kernelspec": {
   "display_name": "Python 3",
   "language": "python",
   "name": "python3"
  },
  "language_info": {
   "codemirror_mode": {
    "name": "ipython",
    "version": 3
   },
   "file_extension": ".py",
   "mimetype": "text/x-python",
   "name": "python",
   "nbconvert_exporter": "python",
   "pygments_lexer": "ipython3",
   "version": "3.12.2"
  }
 },
 "nbformat": 4,
 "nbformat_minor": 2
}
