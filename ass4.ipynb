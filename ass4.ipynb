{
 "cells": [
  {
   "cell_type": "code",
   "execution_count": null,
   "metadata": {},
   "outputs": [
    {
     "name": "stdout",
     "output_type": "stream",
     "text": [
      "full name: swaroopEdupulapati\n"
     ]
    }
   ],
   "source": [
    "first_name = input(\"Enter a first name: \")\n",
    "last_name = input(\"Enter a last name: \")\n",
    "full_name = f\"{first_name.capitalize()} {last_name.capitalize()}\"\n",
    "print(f\"full name: {full_name}\")\n"
   ]
  },
  {
   "cell_type": "code",
   "execution_count": 3,
   "metadata": {},
   "outputs": [
    {
     "name": "stdout",
     "output_type": "stream",
     "text": [
      "The word am is appears 2 times in the paragraph.\n"
     ]
    }
   ],
   "source": [
    "paragraph = input(\"Enter a paragraph: \").lower()\n",
    "word=input(\"enter word to find = \")\n",
    "print(f\"The word {word} is appears {paragraph.count(word)} times in the paragraph.\")"
   ]
  }
 ],
 "metadata": {
  "kernelspec": {
   "display_name": "Python 3",
   "language": "python",
   "name": "python3"
  },
  "language_info": {
   "codemirror_mode": {
    "name": "ipython",
    "version": 3
   },
   "file_extension": ".py",
   "mimetype": "text/x-python",
   "name": "python",
   "nbconvert_exporter": "python",
   "pygments_lexer": "ipython3",
   "version": "3.12.2"
  }
 },
 "nbformat": 4,
 "nbformat_minor": 2
}
