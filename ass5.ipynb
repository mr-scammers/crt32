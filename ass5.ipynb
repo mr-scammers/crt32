{
 "cells": [
  {
   "cell_type": "code",
   "execution_count": 1,
   "metadata": {},
   "outputs": [
    {
     "name": "stdout",
     "output_type": "stream",
     "text": [
      "1\n",
      "2\n",
      "3\n",
      "4\n",
      "5\n"
     ]
    }
   ],
   "source": [
    "l= input().split()\n",
    "n=0\n",
    "while n<len(l):\n",
    "    print(l[n])\n",
    "    n+=1"
   ]
  },
  {
   "cell_type": "code",
   "execution_count": 2,
   "metadata": {},
   "outputs": [
    {
     "name": "stdout",
     "output_type": "stream",
     "text": [
      " index of 1 is 0\n",
      " index of 2 is 1\n",
      " index of 3 is 2\n",
      " index of 4 is 3\n",
      " index of 5 is 4\n"
     ]
    }
   ],
   "source": [
    "l= input().split()\n",
    "n=0\n",
    "while n<len(l):\n",
    "    print(f\" index of {l[n]} is {n}\")\n",
    "    n+=1"
   ]
  },
  {
   "cell_type": "code",
   "execution_count": 3,
   "metadata": {},
   "outputs": [
    {
     "name": "stdout",
     "output_type": "stream",
     "text": [
      "5\n"
     ]
    }
   ],
   "source": [
    "l= input().split()\n",
    "n=0\n",
    "while n<len(l):\n",
    "    n+=1\n",
    "print(n)"
   ]
  }
 ],
 "metadata": {
  "kernelspec": {
   "display_name": "Python 3",
   "language": "python",
   "name": "python3"
  },
  "language_info": {
   "codemirror_mode": {
    "name": "ipython",
    "version": 3
   },
   "file_extension": ".py",
   "mimetype": "text/x-python",
   "name": "python",
   "nbconvert_exporter": "python",
   "pygments_lexer": "ipython3",
   "version": "3.12.2"
  }
 },
 "nbformat": 4,
 "nbformat_minor": 2
}
