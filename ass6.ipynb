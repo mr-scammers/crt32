{
 "cells": [
  {
   "cell_type": "code",
   "execution_count": 5,
   "metadata": {},
   "outputs": [
    {
     "name": "stdout",
     "output_type": "stream",
     "text": [
      "you have remaining works ['hi', 'bi', 'sai', 'ji']\n",
      "you have remaining works ['bi', 'sai', 'ji']\n",
      "you have remaining works ['bi', 'ji']\n",
      "you have remaining works ['ji']\n",
      "all works are completed\n"
     ]
    }
   ],
   "source": [
    "l=input().split()\n",
    "while len(l)>0:\n",
    "    print(f\"you have remaining works {l}\")\n",
    "    x=input('enter a work if you complete = ')\n",
    "    l.remove(x)\n",
    "else:\n",
    "    print(\"all works are completed\")"
   ]
  },
  {
   "cell_type": "code",
   "execution_count": 2,
   "metadata": {},
   "outputs": [
    {
     "name": "stdout",
     "output_type": "stream",
     "text": [
      "['dc', 'dscsd', 'sdcsd', 'sccsdcs']\n",
      "['sccsdcs', 'sdcsd', 'dscsd', 'dc']\n"
     ]
    }
   ],
   "source": [
    "l=input().split()\n",
    "print(l)\n",
    "l.reverse()\n",
    "print(l)"
   ]
  },
  {
   "cell_type": "code",
   "execution_count": 3,
   "metadata": {},
   "outputs": [
    {
     "name": "stdout",
     "output_type": "stream",
     "text": [
      "['gfd', 'sdsd', 'ghjhj', 'dfdf']\n",
      "['dfdf', 'gfd', 'ghjhj', 'sdsd']\n"
     ]
    }
   ],
   "source": [
    "l=input().split()\n",
    "print(l)\n",
    "l.sort()\n",
    "print(l)"
   ]
  }
 ],
 "metadata": {
  "kernelspec": {
   "display_name": "Python 3",
   "language": "python",
   "name": "python3"
  },
  "language_info": {
   "codemirror_mode": {
    "name": "ipython",
    "version": 3
   },
   "file_extension": ".py",
   "mimetype": "text/x-python",
   "name": "python",
   "nbconvert_exporter": "python",
   "pygments_lexer": "ipython3",
   "version": "3.12.2"
  }
 },
 "nbformat": 4,
 "nbformat_minor": 2
}
