{
 "cells": [
  {
   "cell_type": "code",
   "execution_count": null,
   "metadata": {},
   "outputs": [],
   "source": [
    "#tuple"
   ]
  },
  {
   "cell_type": "code",
   "execution_count": 7,
   "metadata": {},
   "outputs": [
    {
     "name": "stdout",
     "output_type": "stream",
     "text": [
      "maaza = 2\n",
      "thansap = 2\n",
      "cola = 1\n"
     ]
    }
   ],
   "source": [
    "a=(\"maaza\",\"thansap\",\"cola\",'maaza',\"thansap\")\n",
    "l=[]\n",
    "for i in range(len(a)):\n",
    "    if a[i] in l:\n",
    "        continue\n",
    "    else:\n",
    "        print(f\"{a[i]} = {a.count(a[i])}\")\n",
    "        l.append(a[i])\n"
   ]
  },
  {
   "cell_type": "code",
   "execution_count": 8,
   "metadata": {},
   "outputs": [
    {
     "name": "stdout",
     "output_type": "stream",
     "text": [
      "bi is present in 1\n"
     ]
    }
   ],
   "source": [
    "t=tuple(input(\"enter books = \").split())\n",
    "b=input(\"enter the book to find\")\n",
    "if b in t:\n",
    "    print(f\"{b} is present in {t.index(b)}\")\n"
   ]
  },
  {
   "cell_type": "code",
   "execution_count": 1,
   "metadata": {},
   "outputs": [
    {
     "name": "stdout",
     "output_type": "stream",
     "text": [
      "you have remaining works ('a', 'd', 's', 'x')\n",
      "you have remaining works ('d', 's', 'x')\n",
      "you have remaining works ('s', 'x')\n",
      "you have remaining works ('x',)\n",
      "all works are completed\n"
     ]
    }
   ],
   "source": [
    "t=tuple(input().split())\n",
    "while len(t)>0:\n",
    "    print(f\"you have remaining works {t}\")\n",
    "    x=input('enter a work if you complete = ')\n",
    "    l=list(t)\n",
    "    l.remove(x)\n",
    "    t=tuple(l)\n",
    "else:\n",
    "    print(\"all works are completed\")"
   ]
  },
  {
   "cell_type": "code",
   "execution_count": 2,
   "metadata": {},
   "outputs": [
    {
     "name": "stdout",
     "output_type": "stream",
     "text": [
      "['a', 'f', 'e', 'w', 'sf']\n",
      "('sf', 'w', 'e', 'f', 'a')\n"
     ]
    }
   ],
   "source": [
    "t=input().split()\n",
    "print(t)\n",
    "l=list(t)\n",
    "l.reverse()\n",
    "t=tuple(l)\n",
    "print(t)"
   ]
  },
  {
   "cell_type": "code",
   "execution_count": 3,
   "metadata": {},
   "outputs": [
    {
     "name": "stdout",
     "output_type": "stream",
     "text": [
      "['a', 'f', 's', 'f', 's']\n",
      "('a', 'f', 'f', 's', 's')\n"
     ]
    }
   ],
   "source": [
    "t=input().split()\n",
    "print(t)\n",
    "l=list(t)\n",
    "l.sort()\n",
    "t=tuple(l)\n",
    "print(t)"
   ]
  },
  {
   "cell_type": "code",
   "execution_count": 9,
   "metadata": {},
   "outputs": [
    {
     "name": "stdout",
     "output_type": "stream",
     "text": [
      "('hi', 'bi', 'ji')\n",
      "()\n"
     ]
    }
   ],
   "source": [
    "cart=(\"hi\",\"bi\",\"ji\")\n",
    "print(cart)\n",
    "c=()\n",
    "cart=c\n",
    "print(cart)"
   ]
  },
  {
   "cell_type": "code",
   "execution_count": 11,
   "metadata": {},
   "outputs": [
    {
     "name": "stdout",
     "output_type": "stream",
     "text": [
      "('ashok', 'tiru', 'srinadh', 'yogi', 'nani')\n",
      "('ashok', 'tiru', 'srinadh', 'yogi', 'nani', 'hi')\n"
     ]
    }
   ],
   "source": [
    "t=(\"ashok\",\"tiru\",\"srinadh\",\"yogi\",\"nani\")\n",
    "print(t)\n",
    "a=input()\n",
    "l=list(t)\n",
    "l.append(a)\n",
    "t=tuple(l)\n",
    "print(t)\n"
   ]
  },
  {
   "cell_type": "code",
   "execution_count": null,
   "metadata": {},
   "outputs": [],
   "source": []
  }
 ],
 "metadata": {
  "kernelspec": {
   "display_name": "Python 3",
   "language": "python",
   "name": "python3"
  },
  "language_info": {
   "codemirror_mode": {
    "name": "ipython",
    "version": 3
   },
   "file_extension": ".py",
   "mimetype": "text/x-python",
   "name": "python",
   "nbconvert_exporter": "python",
   "pygments_lexer": "ipython3",
   "version": "3.10.12"
  }
 },
 "nbformat": 4,
 "nbformat_minor": 2
}
