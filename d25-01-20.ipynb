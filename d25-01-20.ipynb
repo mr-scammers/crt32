{
 "cells": [
  {
   "cell_type": "code",
   "execution_count": 1,
   "metadata": {},
   "outputs": [
    {
     "name": "stdout",
     "output_type": "stream",
     "text": [
      "you have remaining works ('a', 'd', 's', 'x')\n",
      "you have remaining works ('d', 's', 'x')\n",
      "you have remaining works ('s', 'x')\n",
      "you have remaining works ('x',)\n",
      "all works are completed\n"
     ]
    }
   ],
   "source": [
    "t=tuple(input().split())\n",
    "while len(t)>0:\n",
    "    print(f\"you have remaining works {t}\")\n",
    "    x=input('enter a work if you complete = ')\n",
    "    l=list(t)\n",
    "    l.remove(x)\n",
    "    t=tuple(l)\n",
    "else:\n",
    "    print(\"all works are completed\")"
   ]
  },
  {
   "cell_type": "code",
   "execution_count": 2,
   "metadata": {},
   "outputs": [
    {
     "name": "stdout",
     "output_type": "stream",
     "text": [
      "['a', 'f', 'e', 'w', 'sf']\n",
      "('sf', 'w', 'e', 'f', 'a')\n"
     ]
    }
   ],
   "source": [
    "t=input().split()\n",
    "print(t)\n",
    "l=list(t)\n",
    "l.reverse()\n",
    "t=tuple(l)\n",
    "print(t)"
   ]
  },
  {
   "cell_type": "code",
   "execution_count": 3,
   "metadata": {},
   "outputs": [
    {
     "name": "stdout",
     "output_type": "stream",
     "text": [
      "['a', 'f', 's', 'f', 's']\n",
      "('a', 'f', 'f', 's', 's')\n"
     ]
    }
   ],
   "source": [
    "t=input().split()\n",
    "print(t)\n",
    "l=list(t)\n",
    "l.sort()\n",
    "t=tuple(l)\n",
    "print(t)"
   ]
  }
 ],
 "metadata": {
  "kernelspec": {
   "display_name": "Python 3",
   "language": "python",
   "name": "python3"
  },
  "language_info": {
   "codemirror_mode": {
    "name": "ipython",
    "version": 3
   },
   "file_extension": ".py",
   "mimetype": "text/x-python",
   "name": "python",
   "nbconvert_exporter": "python",
   "pygments_lexer": "ipython3",
   "version": "3.10.12"
  }
 },
 "nbformat": 4,
 "nbformat_minor": 2
}
